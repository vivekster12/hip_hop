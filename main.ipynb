{
 "cells": [
  {
   "cell_type": "markdown",
   "metadata": {},
   "source": [
    "# Hip Hop Vocab Per Era Analysis #"
   ]
  },
  {
   "cell_type": "markdown",
   "metadata": {},
   "source": [
    "## Introduction ##\n",
    "I found a dataset on [hip hop vocab](https://data.world/the-pudding/hip-hop-vocab) that I found very interesting. It contains the number of unique words an artist has employed in their lyrics (per first 35,000 words of lyrics), the artist name, and the era they belonged to. This got me wondering if there were any trends in the number of unique words for artists across eras. This project is explores that trend and tests whether it is statistically significant. "
   ]
  },
  {
   "cell_type": "code",
   "execution_count": 1,
   "metadata": {},
   "outputs": [],
   "source": [
    "import pandas as pd\n",
    "import numpy as np\n",
    "import matplotlib.pyplot as plt\n",
    "%matplotlib inline\n",
    "from scipy import stats"
   ]
  },
  {
   "cell_type": "code",
   "execution_count": 2,
   "metadata": {},
   "outputs": [],
   "source": [
    "data = pd.read_csv(\"Hip_Hop _ Vocab_Chart-Full.csv\")"
   ]
  },
  {
   "cell_type": "markdown",
   "metadata": {},
   "source": [
    "## Beginning of Exloratory Data Analysis ##"
   ]
  },
  {
   "cell_type": "markdown",
   "metadata": {},
   "source": [
    "Going to peak at the dataset and see what the variable types are"
   ]
  },
  {
   "cell_type": "code",
   "execution_count": 3,
   "metadata": {},
   "outputs": [
    {
     "data": {
      "text/html": [
       "<div>\n",
       "<style scoped>\n",
       "    .dataframe tbody tr th:only-of-type {\n",
       "        vertical-align: middle;\n",
       "    }\n",
       "\n",
       "    .dataframe tbody tr th {\n",
       "        vertical-align: top;\n",
       "    }\n",
       "\n",
       "    .dataframe thead th {\n",
       "        text-align: right;\n",
       "    }\n",
       "</style>\n",
       "<table border=\"1\" class=\"dataframe\">\n",
       "  <thead>\n",
       "    <tr style=\"text-align: right;\">\n",
       "      <th></th>\n",
       "      <th>notes</th>\n",
       "      <th>recalc</th>\n",
       "      <th>era</th>\n",
       "      <th>rapper</th>\n",
       "      <th>rapper_clean</th>\n",
       "      <th>color</th>\n",
       "      <th>words</th>\n",
       "      <th>id</th>\n",
       "      <th>source</th>\n",
       "    </tr>\n",
       "  </thead>\n",
       "  <tbody>\n",
       "    <tr>\n",
       "      <th>0</th>\n",
       "      <td>NaN</td>\n",
       "      <td>2988.0</td>\n",
       "      <td>2010s</td>\n",
       "      <td>21 Savage</td>\n",
       "      <td>21 Savage</td>\n",
       "      <td>NaN</td>\n",
       "      <td>2988</td>\n",
       "      <td>21-savage</td>\n",
       "      <td>new</td>\n",
       "    </tr>\n",
       "    <tr>\n",
       "      <th>1</th>\n",
       "      <td>NaN</td>\n",
       "      <td>3812.0</td>\n",
       "      <td>2010s</td>\n",
       "      <td>2 Chainz</td>\n",
       "      <td>2 Chainz</td>\n",
       "      <td>NaN</td>\n",
       "      <td>4148</td>\n",
       "      <td>2chainz</td>\n",
       "      <td>poster</td>\n",
       "    </tr>\n",
       "    <tr>\n",
       "      <th>2</th>\n",
       "      <td>NaN</td>\n",
       "      <td>3815.0</td>\n",
       "      <td>1990s</td>\n",
       "      <td>2Pac</td>\n",
       "      <td>2Pac</td>\n",
       "      <td>west nowutang second</td>\n",
       "      <td>3,970</td>\n",
       "      <td>2pac</td>\n",
       "      <td>site</td>\n",
       "    </tr>\n",
       "    <tr>\n",
       "      <th>3</th>\n",
       "      <td>NaN</td>\n",
       "      <td>3384.0</td>\n",
       "      <td>2000s</td>\n",
       "      <td>50 Cent</td>\n",
       "      <td>50 Cent</td>\n",
       "      <td>east nowutang first</td>\n",
       "      <td>3,591</td>\n",
       "      <td>50-cent</td>\n",
       "      <td>site</td>\n",
       "    </tr>\n",
       "    <tr>\n",
       "      <th>4</th>\n",
       "      <td>NaN</td>\n",
       "      <td>4534.0</td>\n",
       "      <td>2010s</td>\n",
       "      <td>Ab-Soul</td>\n",
       "      <td>Ab-Soul</td>\n",
       "      <td>NaN</td>\n",
       "      <td>4534</td>\n",
       "      <td>absoul</td>\n",
       "      <td>new</td>\n",
       "    </tr>\n",
       "  </tbody>\n",
       "</table>\n",
       "</div>"
      ],
      "text/plain": [
       "  notes  recalc    era     rapper rapper_clean                 color  words  \\\n",
       "0   NaN  2988.0  2010s  21 Savage    21 Savage                   NaN   2988   \n",
       "1   NaN  3812.0  2010s   2 Chainz     2 Chainz                   NaN   4148   \n",
       "2   NaN  3815.0  1990s       2Pac         2Pac  west nowutang second  3,970   \n",
       "3   NaN  3384.0  2000s    50 Cent      50 Cent   east nowutang first  3,591   \n",
       "4   NaN  4534.0  2010s    Ab-Soul      Ab-Soul                   NaN   4534   \n",
       "\n",
       "          id  source  \n",
       "0  21-savage     new  \n",
       "1    2chainz  poster  \n",
       "2       2pac    site  \n",
       "3    50-cent    site  \n",
       "4     absoul     new  "
      ]
     },
     "execution_count": 3,
     "metadata": {},
     "output_type": "execute_result"
    }
   ],
   "source": [
    "data.head()"
   ]
  },
  {
   "cell_type": "code",
   "execution_count": 4,
   "metadata": {},
   "outputs": [
    {
     "data": {
      "text/plain": [
       "notes            object\n",
       "recalc          float64\n",
       "era              object\n",
       "rapper           object\n",
       "rapper_clean     object\n",
       "color            object\n",
       "words            object\n",
       "id               object\n",
       "source           object\n",
       "dtype: object"
      ]
     },
     "execution_count": 4,
     "metadata": {},
     "output_type": "execute_result"
    }
   ],
   "source": [
    "data.dtypes"
   ]
  },
  {
   "cell_type": "markdown",
   "metadata": {},
   "source": [
    "To begin, I'm going to play around with the naming of some of these variables to my liking. [Here's why.](https://twitter.com/kanyewest/status/1018432945839673344?ref_src=twsrc%5Etfw%7Ctwcamp%5Etweetembed%7Ctwterm%5E1018432945839673344&ref_url=https%3A%2F%2Fwww.channel24.co.za%2FMusic%2FNews%2Fkanye-west-doesnt-want-journalists-to-call-him-a-rapper-20180716)\n",
    "[Renamed to...](https://twitter.com/kanyewest/status/1018433346668453889?ref_src=twsrc%5Etfw%7Ctwcamp%5Etweetembed%7Ctwterm%5E1018433346668453889&ref_url=https%3A%2F%2Fwww.channel24.co.za%2FMusic%2FNews%2Fkanye-west-doesnt-want-journalists-to-call-him-a-rapper-20180716)"
   ]
  },
  {
   "cell_type": "code",
   "execution_count": 5,
   "metadata": {},
   "outputs": [],
   "source": [
    "data.rename(index=str, columns={\"rapper\": \"artist\"}, inplace=True)\n",
    "data.drop(columns=['rapper_clean', 'notes', 'color', 'source'], inplace=True)"
   ]
  },
  {
   "cell_type": "markdown",
   "metadata": {},
   "source": [
    "'recalc' is 'words' column converted to float, so going to delete 'words' column and rename 'recalc' to 'words'"
   ]
  },
  {
   "cell_type": "code",
   "execution_count": 6,
   "metadata": {},
   "outputs": [
    {
     "data": {
      "text/html": [
       "<div>\n",
       "<style scoped>\n",
       "    .dataframe tbody tr th:only-of-type {\n",
       "        vertical-align: middle;\n",
       "    }\n",
       "\n",
       "    .dataframe tbody tr th {\n",
       "        vertical-align: top;\n",
       "    }\n",
       "\n",
       "    .dataframe thead th {\n",
       "        text-align: right;\n",
       "    }\n",
       "</style>\n",
       "<table border=\"1\" class=\"dataframe\">\n",
       "  <thead>\n",
       "    <tr style=\"text-align: right;\">\n",
       "      <th></th>\n",
       "      <th>words</th>\n",
       "      <th>era</th>\n",
       "      <th>artist</th>\n",
       "      <th>id</th>\n",
       "    </tr>\n",
       "  </thead>\n",
       "  <tbody>\n",
       "    <tr>\n",
       "      <th>0</th>\n",
       "      <td>2988.0</td>\n",
       "      <td>2010s</td>\n",
       "      <td>21 Savage</td>\n",
       "      <td>21-savage</td>\n",
       "    </tr>\n",
       "    <tr>\n",
       "      <th>1</th>\n",
       "      <td>3812.0</td>\n",
       "      <td>2010s</td>\n",
       "      <td>2 Chainz</td>\n",
       "      <td>2chainz</td>\n",
       "    </tr>\n",
       "    <tr>\n",
       "      <th>2</th>\n",
       "      <td>3815.0</td>\n",
       "      <td>1990s</td>\n",
       "      <td>2Pac</td>\n",
       "      <td>2pac</td>\n",
       "    </tr>\n",
       "    <tr>\n",
       "      <th>3</th>\n",
       "      <td>3384.0</td>\n",
       "      <td>2000s</td>\n",
       "      <td>50 Cent</td>\n",
       "      <td>50-cent</td>\n",
       "    </tr>\n",
       "    <tr>\n",
       "      <th>4</th>\n",
       "      <td>4534.0</td>\n",
       "      <td>2010s</td>\n",
       "      <td>Ab-Soul</td>\n",
       "      <td>absoul</td>\n",
       "    </tr>\n",
       "  </tbody>\n",
       "</table>\n",
       "</div>"
      ],
      "text/plain": [
       "    words    era     artist         id\n",
       "0  2988.0  2010s  21 Savage  21-savage\n",
       "1  3812.0  2010s   2 Chainz    2chainz\n",
       "2  3815.0  1990s       2Pac       2pac\n",
       "3  3384.0  2000s    50 Cent    50-cent\n",
       "4  4534.0  2010s    Ab-Soul     absoul"
      ]
     },
     "execution_count": 6,
     "metadata": {},
     "output_type": "execute_result"
    }
   ],
   "source": [
    "data.drop(columns=['words'], inplace=True)\n",
    "data.rename(index=str, columns={\"recalc\": \"words\"}, inplace=True)\n",
    "data.head()"
   ]
  },
  {
   "cell_type": "markdown",
   "metadata": {},
   "source": [
    "Most interesting variables to me are which era an artist is from and the number of unique words they have in their lyrics. So I'm going to group the dataset by era and get some basic summary values."
   ]
  },
  {
   "cell_type": "code",
   "execution_count": 7,
   "metadata": {},
   "outputs": [
    {
     "data": {
      "text/html": [
       "<div>\n",
       "<style scoped>\n",
       "    .dataframe tbody tr th:only-of-type {\n",
       "        vertical-align: middle;\n",
       "    }\n",
       "\n",
       "    .dataframe tbody tr th {\n",
       "        vertical-align: top;\n",
       "    }\n",
       "\n",
       "    .dataframe thead tr th {\n",
       "        text-align: left;\n",
       "    }\n",
       "\n",
       "    .dataframe thead tr:last-of-type th {\n",
       "        text-align: right;\n",
       "    }\n",
       "</style>\n",
       "<table border=\"1\" class=\"dataframe\">\n",
       "  <thead>\n",
       "    <tr>\n",
       "      <th></th>\n",
       "      <th colspan=\"5\" halign=\"left\">words</th>\n",
       "    </tr>\n",
       "    <tr>\n",
       "      <th></th>\n",
       "      <th>count</th>\n",
       "      <th>mean</th>\n",
       "      <th>max</th>\n",
       "      <th>min</th>\n",
       "      <th>std</th>\n",
       "    </tr>\n",
       "    <tr>\n",
       "      <th>era</th>\n",
       "      <th></th>\n",
       "      <th></th>\n",
       "      <th></th>\n",
       "      <th></th>\n",
       "      <th></th>\n",
       "    </tr>\n",
       "  </thead>\n",
       "  <tbody>\n",
       "    <tr>\n",
       "      <th>1980s</th>\n",
       "      <td>8</td>\n",
       "      <td>4207.500000</td>\n",
       "      <td>4655.0</td>\n",
       "      <td>2778.0</td>\n",
       "      <td>629.695391</td>\n",
       "    </tr>\n",
       "    <tr>\n",
       "      <th>1990s</th>\n",
       "      <td>44</td>\n",
       "      <td>4544.704545</td>\n",
       "      <td>6390.0</td>\n",
       "      <td>2936.0</td>\n",
       "      <td>779.285200</td>\n",
       "    </tr>\n",
       "    <tr>\n",
       "      <th>1999s</th>\n",
       "      <td>1</td>\n",
       "      <td>4620.000000</td>\n",
       "      <td>4620.0</td>\n",
       "      <td>4620.0</td>\n",
       "      <td>NaN</td>\n",
       "    </tr>\n",
       "    <tr>\n",
       "      <th>2000s</th>\n",
       "      <td>50</td>\n",
       "      <td>4633.580000</td>\n",
       "      <td>7879.0</td>\n",
       "      <td>3275.0</td>\n",
       "      <td>1045.522096</td>\n",
       "    </tr>\n",
       "    <tr>\n",
       "      <th>2010s</th>\n",
       "      <td>57</td>\n",
       "      <td>3722.807018</td>\n",
       "      <td>5413.0</td>\n",
       "      <td>2472.0</td>\n",
       "      <td>697.193134</td>\n",
       "    </tr>\n",
       "  </tbody>\n",
       "</table>\n",
       "</div>"
      ],
      "text/plain": [
       "      words                                          \n",
       "      count         mean     max     min          std\n",
       "era                                                  \n",
       "1980s     8  4207.500000  4655.0  2778.0   629.695391\n",
       "1990s    44  4544.704545  6390.0  2936.0   779.285200\n",
       "1999s     1  4620.000000  4620.0  4620.0          NaN\n",
       "2000s    50  4633.580000  7879.0  3275.0  1045.522096\n",
       "2010s    57  3722.807018  5413.0  2472.0   697.193134"
      ]
     },
     "execution_count": 7,
     "metadata": {},
     "output_type": "execute_result"
    }
   ],
   "source": [
    "data.groupby('era').agg(['count', 'mean', 'max', 'min', 'std'])"
   ]
  },
  {
   "cell_type": "markdown",
   "metadata": {},
   "source": [
    "Because 1999s belongs in 1990s and there is only one entry, going to replace 1999s by 1990s"
   ]
  },
  {
   "cell_type": "code",
   "execution_count": 8,
   "metadata": {},
   "outputs": [],
   "source": [
    "data.replace('1999s', '1990s', inplace = True)"
   ]
  },
  {
   "cell_type": "code",
   "execution_count": 9,
   "metadata": {},
   "outputs": [
    {
     "data": {
      "text/html": [
       "<div>\n",
       "<style scoped>\n",
       "    .dataframe tbody tr th:only-of-type {\n",
       "        vertical-align: middle;\n",
       "    }\n",
       "\n",
       "    .dataframe tbody tr th {\n",
       "        vertical-align: top;\n",
       "    }\n",
       "\n",
       "    .dataframe thead tr th {\n",
       "        text-align: left;\n",
       "    }\n",
       "\n",
       "    .dataframe thead tr:last-of-type th {\n",
       "        text-align: right;\n",
       "    }\n",
       "</style>\n",
       "<table border=\"1\" class=\"dataframe\">\n",
       "  <thead>\n",
       "    <tr>\n",
       "      <th></th>\n",
       "      <th colspan=\"5\" halign=\"left\">words</th>\n",
       "    </tr>\n",
       "    <tr>\n",
       "      <th></th>\n",
       "      <th>count</th>\n",
       "      <th>mean</th>\n",
       "      <th>max</th>\n",
       "      <th>min</th>\n",
       "      <th>std</th>\n",
       "    </tr>\n",
       "    <tr>\n",
       "      <th>era</th>\n",
       "      <th></th>\n",
       "      <th></th>\n",
       "      <th></th>\n",
       "      <th></th>\n",
       "      <th></th>\n",
       "    </tr>\n",
       "  </thead>\n",
       "  <tbody>\n",
       "    <tr>\n",
       "      <th>1980s</th>\n",
       "      <td>8</td>\n",
       "      <td>4207.500000</td>\n",
       "      <td>4655.0</td>\n",
       "      <td>2778.0</td>\n",
       "      <td>629.695391</td>\n",
       "    </tr>\n",
       "    <tr>\n",
       "      <th>1990s</th>\n",
       "      <td>45</td>\n",
       "      <td>4546.377778</td>\n",
       "      <td>6390.0</td>\n",
       "      <td>2936.0</td>\n",
       "      <td>770.460556</td>\n",
       "    </tr>\n",
       "    <tr>\n",
       "      <th>2000s</th>\n",
       "      <td>50</td>\n",
       "      <td>4633.580000</td>\n",
       "      <td>7879.0</td>\n",
       "      <td>3275.0</td>\n",
       "      <td>1045.522096</td>\n",
       "    </tr>\n",
       "    <tr>\n",
       "      <th>2010s</th>\n",
       "      <td>57</td>\n",
       "      <td>3722.807018</td>\n",
       "      <td>5413.0</td>\n",
       "      <td>2472.0</td>\n",
       "      <td>697.193134</td>\n",
       "    </tr>\n",
       "  </tbody>\n",
       "</table>\n",
       "</div>"
      ],
      "text/plain": [
       "      words                                          \n",
       "      count         mean     max     min          std\n",
       "era                                                  \n",
       "1980s     8  4207.500000  4655.0  2778.0   629.695391\n",
       "1990s    45  4546.377778  6390.0  2936.0   770.460556\n",
       "2000s    50  4633.580000  7879.0  3275.0  1045.522096\n",
       "2010s    57  3722.807018  5413.0  2472.0   697.193134"
      ]
     },
     "execution_count": 9,
     "metadata": {},
     "output_type": "execute_result"
    }
   ],
   "source": [
    "data.groupby('era').agg(['count', 'mean', 'max', 'min','std'])"
   ]
  },
  {
   "cell_type": "markdown",
   "metadata": {},
   "source": [
    "I can see that there is a noticable drop in number of unique words for artists in the 2010s era. Going to plot this data to better visualize this. "
   ]
  },
  {
   "cell_type": "code",
   "execution_count": 10,
   "metadata": {},
   "outputs": [
    {
     "data": {
      "text/plain": [
       "<matplotlib.axes._subplots.AxesSubplot at 0x7efd9b66e9e8>"
      ]
     },
     "execution_count": 10,
     "metadata": {},
     "output_type": "execute_result"
    },
    {
     "data": {
      "image/png": "[encoded data removed]",
      "text/plain": [
       "<Figure size 432x288 with 1 Axes>"
      ]
     },
     "metadata": {
      "needs_background": "light"
     },
     "output_type": "display_data"
    }
   ],
   "source": [
    "data.groupby('era').mean().plot.bar()"
   ]
  },
  {
   "cell_type": "markdown",
   "metadata": {},
   "source": [
    "Now, the question I want to answer is, **is the drop in number of unique words in an artist's lyrics in the 2010s era statistically significant?**"
   ]
  },
  {
   "cell_type": "markdown",
   "metadata": {},
   "source": [
    "To begin, what I'm essentially doing is comparing means of more than two groups. To compare the means of two groups, I could do pairwise T- tests, however, because we have 4 groups (eras), I must do a **one-way ANOVA (Analysis of Variance) test.** [For background on ANOVA.](https://statistics.laerd.com/statistical-guides/one-way-anova-statistical-guide.php)\n",
    "\n",
    "ANOVA test is used to determine whether there are any statistically significant differences among means of three or more groups. It is key to rememeber that ANOVA is an \"omnibus\" test, i.e it only tells us *if* the differences of two or more groups are statistically significant (but not *which* groups). To find out which groups are statistically different from the rest, some post-hoc tests must be performed."
   ]
  },
  {
   "cell_type": "markdown",
   "metadata": {},
   "source": [
    "Before I perform an ANOVA test, I must first make sure that the dataset meets **three conditions**: \n",
    "    * The dependent variable (in this case, 'words') is normally distributed -->  \"Normality\"\n",
    "    * The variance in the data for each group are equal --> \"Homoegeniety of variance\"\n",
    "    * \"Independence of observations\""
   ]
  },
  {
   "cell_type": "markdown",
   "metadata": {},
   "source": [
    "I'll perform the first 2 tests and proceed with ANOVA testing. At the end, I'll have a discussion about the \"Independence of observations\". "
   ]
  },
  {
   "cell_type": "markdown",
   "metadata": {},
   "source": [
    "**Checking for \"Normality\" condition**\n",
    "\n",
    "To begin, I'll plot a boxplot for my data. If each group has normally distributed datapoints, then the box plots would look fairly symmetric. So I'm looking to see if any group has a boxplot that is not blatantly skewed. "
   ]
  },
  {
   "cell_type": "code",
   "execution_count": 11,
   "metadata": {},
   "outputs": [
    {
     "data": {
      "text/plain": [
       "<matplotlib.axes._subplots.AxesSubplot at 0x7efd9b351128>"
      ]
     },
     "execution_count": 11,
     "metadata": {},
     "output_type": "execute_result"
    },
    {
     "data": {
      "image/png": "[encoded data removed]",
      "text/plain": [
       "<Figure size 432x288 with 1 Axes>"
      ]
     },
     "metadata": {
      "needs_background": "light"
     },
     "output_type": "display_data"
    }
   ],
   "source": [
    "data[['era','words']].boxplot('words', by='era')"
   ]
  },
  {
   "cell_type": "markdown",
   "metadata": {},
   "source": [
    "As it can be see, not all groups have datapoints which are normaly distributed. Datapoints in the 80s are fairly skewed and datapoints for the 00s era are quite clearly skewed to the right. This indicates that perhaps these data don't meet the required normality condition for the ANOVA test. "
   ]
  },
  {
   "cell_type": "markdown",
   "metadata": {},
   "source": [
    "A somewhat more telling test for normality is plotting a Normal Q-Q plot. "
   ]
  },
  {
   "cell_type": "code",
   "execution_count": 12,
   "metadata": {},
   "outputs": [
    {
     "data": {
      "image/png": "[encoded data removed]",
      "text/plain": [
       "<Figure size 432x288 with 1 Axes>"
      ]
     },
     "metadata": {
      "needs_background": "light"
     },
     "output_type": "display_data"
    },
    {
     "data": {
      "image/png": "[encoded data removed]",
      "text/plain": [
       "<Figure size 432x288 with 1 Axes>"
      ]
     },
     "metadata": {
      "needs_background": "light"
     },
     "output_type": "display_data"
    },
    {
     "data": {
      "image/png": "[encoded data removed]",
      "text/plain": [
       "<Figure size 432x288 with 1 Axes>"
      ]
     },
     "metadata": {
      "needs_background": "light"
     },
     "output_type": "display_data"
    },
    {
     "data": {
      "image/png": "[encoded data removed]",
      "text/plain": [
       "<Figure size 432x288 with 1 Axes>"
      ]
     },
     "metadata": {
      "needs_background": "light"
     },
     "output_type": "display_data"
    }
   ],
   "source": [
    "groups = list(data.groupby('era').groups.keys())\n",
    "for group in groups:\n",
    "    obs = np.array(data['words'][data['era']== group])\n",
    "    z = (obs-np.mean(obs))/np.std(obs)\n",
    "    stats.probplot(z, dist=\"norm\", plot=plt)\n",
    "    plt.title(\"Normal Q-Q plot for:\" + group)\n",
    "    plt.show()\n",
    "    "
   ]
  },
  {
   "cell_type": "markdown",
   "metadata": {},
   "source": [
    "From these plots, it's quite clear that data from the 80s era can't be used for any statistical inference, for there are far too few datapoints in that era. Once again, datapoints from the 90s and 10s show least deviation from the normal, indicative of their underlying normal distribution - certainly more so compared to the deviation from the normal of the 00s era datapoints. "
   ]
  },
  {
   "cell_type": "markdown",
   "metadata": {},
   "source": [
    "There are more graphical tests that can be performed, such as plotting histograms, to gauge whether the data meets the normality condition. However, graphical methods are only qualitative and thus it helps to also perform some quantitative, statistical tests to check for the normality condition. "
   ]
  },
  {
   "cell_type": "markdown",
   "metadata": {},
   "source": [
    "The statistical test I'll perform to check for normality is the **Shapiro-Wilk test**. [For background on Shapiro-Wilk test.](https://en.wikipedia.org/wiki/Shapiro%E2%80%93Wilk_test) The test assumes that the data is normally distributed (i.e that is its null hypothesis) and so, I'm looking for p-value to be greater than or equal 0.05 (standard), to confirm that the data is normally distributed. \n",
    "\n",
    "I'll use the scipy.stats.shapiro method. The return values are (test statistic, p-value)"
   ]
  },
  {
   "cell_type": "code",
   "execution_count": 13,
   "metadata": {},
   "outputs": [
    {
     "name": "stdout",
     "output_type": "stream",
     "text": [
      "1980s\n",
      "(0.7392493486404419, 0.006207759957760572)\n",
      "1990s\n",
      "(0.9846952557563782, 0.8083436489105225)\n",
      "2000s\n",
      "(0.9059154391288757, 0.000757816422265023)\n",
      "2010s\n",
      "(0.9788727760314941, 0.4170992374420166)\n"
     ]
    }
   ],
   "source": [
    "for group in groups:\n",
    "    print (group)\n",
    "    print (stats.shapiro(data['words'][data['era'] == group]))"
   ]
  },
  {
   "cell_type": "markdown",
   "metadata": {},
   "source": [
    "Once again, only the 90s and 10s era meet the normality condtion, i.e their p-value is well greater than 0.05."
   ]
  },
  {
   "cell_type": "markdown",
   "metadata": {},
   "source": [
    "From the above tests, it is clear that not all the groups have datapoints which are normally distributed. My original plan was to perform an ANOVA test, however, this must now be refined. \n",
    "\n",
    "The question I now want to answer is, **is the drop in the uniqueness of an artist's lyrics in the 10s era compared to artists in the 90s era, statistically significant?**"
   ]
  },
  {
   "cell_type": "markdown",
   "metadata": {},
   "source": [
    "To answer this question, I'll have to compare the means of two groups, and so I'll perform a **T-test.** [Again, for background.](https://en.wikipedia.org/wiki/Student%27s_t-test)"
   ]
  },
  {
   "cell_type": "markdown",
   "metadata": {},
   "source": [
    "The conditions that need to be met in order to perform a T-test are similar to the conditions for an ANOVA test. The data for the two groups must be **random, normally distributed and independent.** \n",
    "\n",
    "I've already checked for normality, and will assume randomness of data, given how the data was [obtained](https://pudding.cool/projects/vocabulary/). Once again, I'll leave the discussion on the independence of data for later. \n",
    "\n",
    "Like any other statistical test, the T-test's null hypothesis is that the difference in means is not statistically significant. Thus a p-value less 0.05 would lead one to reject the null hypothesis, implying the difference *is* statistically significant. "
   ]
  },
  {
   "cell_type": "markdown",
   "metadata": {},
   "source": [
    "Once again, I'll use scipy.stats to perform the T-test."
   ]
  },
  {
   "cell_type": "code",
   "execution_count": 14,
   "metadata": {},
   "outputs": [
    {
     "data": {
      "text/plain": [
       "Ttest_indResult(statistic=5.654852370186192, pvalue=1.4834503913307314e-07)"
      ]
     },
     "execution_count": 14,
     "metadata": {},
     "output_type": "execute_result"
    }
   ],
   "source": [
    "stats.ttest_ind(data['words'][data['era'] == '1990s'], data['words'][data['era'] == '2010s'])"
   ]
  },
  {
   "cell_type": "markdown",
   "metadata": {},
   "source": [
    "Given that the p-value is smaller than 0.05, I can safely conclude **that the drop in uniquness of words of an artist's lyrics in the 10s era compared to the 90s era is statistically significant.**\n",
    "\n",
    "*******************"
   ]
  },
  {
   "cell_type": "markdown",
   "metadata": {},
   "source": [
    "**Conclusion**\n",
    "\n",
    "This report was not intentioned to be an ode to the \"old school\" hip hop artists, though 90s hip hop *is* frequently regarded as its golden era. There is so much more to a hip hop song than just it's words, such as its beats, bars, rhyme schemes and more. There is a great video by Vox on [Rapping, Deconstructed](https://www.youtube.com/watch?v=QWveXdj6oZU) that dives into what all goes into a song. But words *are* the most powerful medium a recording artist has to express themselves. The evolution from predictable single word rhymes, to multi-syllable, daisy-chained, rhymes are acredit to artists pushing the boundaries of the norm. It has given rise to some of the smoothest songs known to humankind. Artists also use their words to tell incredibly vivid stories. Stories of hardships and violence, of love and lust that has united people of all race and religion.\n",
    "\n",
    "\n",
    "With this in mind, it is hard to ignore the noticable decline in vocabulary for artists in the 10s era. And it begs to question why this change has come about. Perhaps it is indicative of artists' desire to top the charts, which would require writing songs that the majority could grasp and relate to, stressing more on a catchy hook than actual substance. Perhaps every genre has exprienced this trend as it becomes mainstream. \n",
    "\n",
    "\n",
    "To conclude, it is undeniable that there is a decline in an artists vocabulary from the 90s era to the 10s era. It would, however, be blatantly wrong of me to equate this trend to the decline of hip hop. To me, this trend excites me for surely it is informing of some larger trends. Questions that interest me now are, when does a genre be considered mainstream? Is it purely the increase in volume of that genre? Or could such trends such as the decline in uniqueness be the mark of mainstream?\n"
   ]
  }
 ],
 "metadata": {
  "kernelspec": {
   "display_name": "Python 3",
   "language": "python",
   "name": "python3"
  },
  "language_info": {
   "codemirror_mode": {
    "name": "ipython",
    "version": 3
   },
   "file_extension": ".py",
   "mimetype": "text/x-python",
   "name": "python",
   "nbconvert_exporter": "python",
   "pygments_lexer": "ipython3",
   "version": "3.7.3"
  }
 },
 "nbformat": 4,
 "nbformat_minor": 2
}
