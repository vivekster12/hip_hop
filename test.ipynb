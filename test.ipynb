{
 "cells": [
  {
   "cell_type": "code",
   "execution_count": 1,
   "metadata": {},
   "outputs": [],
   "source": [
    "import pandas as pd\n",
    "import numpy as np\n",
    "import matplotlib"
   ]
  },
  {
   "cell_type": "code",
   "execution_count": 103,
   "metadata": {},
   "outputs": [],
   "source": [
    "%matplotlib inline"
   ]
  },
  {
   "cell_type": "code",
   "execution_count": 76,
   "metadata": {},
   "outputs": [],
   "source": [
    "data = pd.read_csv(\"Hip_Hop _ Vocab_Chart-Full.csv\")"
   ]
  },
  {
   "cell_type": "code",
   "execution_count": 17,
   "metadata": {},
   "outputs": [
    {
     "data": {
      "text/html": [
       "<div>\n",
       "<style scoped>\n",
       "    .dataframe tbody tr th:only-of-type {\n",
       "        vertical-align: middle;\n",
       "    }\n",
       "\n",
       "    .dataframe tbody tr th {\n",
       "        vertical-align: top;\n",
       "    }\n",
       "\n",
       "    .dataframe thead th {\n",
       "        text-align: right;\n",
       "    }\n",
       "</style>\n",
       "<table border=\"1\" class=\"dataframe\">\n",
       "  <thead>\n",
       "    <tr style=\"text-align: right;\">\n",
       "      <th></th>\n",
       "      <th>notes</th>\n",
       "      <th>recalc</th>\n",
       "      <th>era</th>\n",
       "      <th>rapper</th>\n",
       "      <th>rapper_clean</th>\n",
       "      <th>color</th>\n",
       "      <th>words</th>\n",
       "      <th>id</th>\n",
       "      <th>source</th>\n",
       "    </tr>\n",
       "  </thead>\n",
       "  <tbody>\n",
       "    <tr>\n",
       "      <th>0</th>\n",
       "      <td>NaN</td>\n",
       "      <td>2988.0</td>\n",
       "      <td>2010s</td>\n",
       "      <td>21 Savage</td>\n",
       "      <td>21 Savage</td>\n",
       "      <td>NaN</td>\n",
       "      <td>2988</td>\n",
       "      <td>21-savage</td>\n",
       "      <td>new</td>\n",
       "    </tr>\n",
       "    <tr>\n",
       "      <th>1</th>\n",
       "      <td>NaN</td>\n",
       "      <td>3812.0</td>\n",
       "      <td>2010s</td>\n",
       "      <td>2 Chainz</td>\n",
       "      <td>2 Chainz</td>\n",
       "      <td>NaN</td>\n",
       "      <td>4148</td>\n",
       "      <td>2chainz</td>\n",
       "      <td>poster</td>\n",
       "    </tr>\n",
       "    <tr>\n",
       "      <th>2</th>\n",
       "      <td>NaN</td>\n",
       "      <td>3815.0</td>\n",
       "      <td>1990s</td>\n",
       "      <td>2Pac</td>\n",
       "      <td>2Pac</td>\n",
       "      <td>west nowutang second</td>\n",
       "      <td>3,970</td>\n",
       "      <td>2pac</td>\n",
       "      <td>site</td>\n",
       "    </tr>\n",
       "    <tr>\n",
       "      <th>3</th>\n",
       "      <td>NaN</td>\n",
       "      <td>3384.0</td>\n",
       "      <td>2000s</td>\n",
       "      <td>50 Cent</td>\n",
       "      <td>50 Cent</td>\n",
       "      <td>east nowutang first</td>\n",
       "      <td>3,591</td>\n",
       "      <td>50-cent</td>\n",
       "      <td>site</td>\n",
       "    </tr>\n",
       "    <tr>\n",
       "      <th>4</th>\n",
       "      <td>NaN</td>\n",
       "      <td>4534.0</td>\n",
       "      <td>2010s</td>\n",
       "      <td>Ab-Soul</td>\n",
       "      <td>Ab-Soul</td>\n",
       "      <td>NaN</td>\n",
       "      <td>4534</td>\n",
       "      <td>absoul</td>\n",
       "      <td>new</td>\n",
       "    </tr>\n",
       "  </tbody>\n",
       "</table>\n",
       "</div>"
      ],
      "text/plain": [
       "  notes  recalc    era     rapper rapper_clean                 color  words  \\\n",
       "0   NaN  2988.0  2010s  21 Savage    21 Savage                   NaN   2988   \n",
       "1   NaN  3812.0  2010s   2 Chainz     2 Chainz                   NaN   4148   \n",
       "2   NaN  3815.0  1990s       2Pac         2Pac  west nowutang second  3,970   \n",
       "3   NaN  3384.0  2000s    50 Cent      50 Cent   east nowutang first  3,591   \n",
       "4   NaN  4534.0  2010s    Ab-Soul      Ab-Soul                   NaN   4534   \n",
       "\n",
       "          id  source  \n",
       "0  21-savage     new  \n",
       "1    2chainz  poster  \n",
       "2       2pac    site  \n",
       "3    50-cent    site  \n",
       "4     absoul     new  "
      ]
     },
     "execution_count": 17,
     "metadata": {},
     "output_type": "execute_result"
    }
   ],
   "source": [
    "data.head()"
   ]
  },
  {
   "cell_type": "code",
   "execution_count": 18,
   "metadata": {},
   "outputs": [
    {
     "data": {
      "text/plain": [
       "notes            object\n",
       "recalc          float64\n",
       "era              object\n",
       "rapper           object\n",
       "rapper_clean     object\n",
       "color            object\n",
       "words            object\n",
       "id               object\n",
       "source           object\n",
       "dtype: object"
      ]
     },
     "execution_count": 18,
     "metadata": {},
     "output_type": "execute_result"
    }
   ],
   "source": [
    "data.dtypes"
   ]
  },
  {
   "cell_type": "code",
   "execution_count": 77,
   "metadata": {},
   "outputs": [
    {
     "data": {
      "text/html": [
       "<div>\n",
       "<style scoped>\n",
       "    .dataframe tbody tr th:only-of-type {\n",
       "        vertical-align: middle;\n",
       "    }\n",
       "\n",
       "    .dataframe tbody tr th {\n",
       "        vertical-align: top;\n",
       "    }\n",
       "\n",
       "    .dataframe thead th {\n",
       "        text-align: right;\n",
       "    }\n",
       "</style>\n",
       "<table border=\"1\" class=\"dataframe\">\n",
       "  <thead>\n",
       "    <tr style=\"text-align: right;\">\n",
       "      <th></th>\n",
       "      <th>notes</th>\n",
       "      <th>words</th>\n",
       "      <th>era</th>\n",
       "      <th>rapper</th>\n",
       "      <th>rapper_clean</th>\n",
       "      <th>color</th>\n",
       "      <th>id</th>\n",
       "      <th>source</th>\n",
       "    </tr>\n",
       "  </thead>\n",
       "  <tbody>\n",
       "    <tr>\n",
       "      <th>0</th>\n",
       "      <td>NaN</td>\n",
       "      <td>2988.0</td>\n",
       "      <td>2010s</td>\n",
       "      <td>21 Savage</td>\n",
       "      <td>21 Savage</td>\n",
       "      <td>NaN</td>\n",
       "      <td>21-savage</td>\n",
       "      <td>new</td>\n",
       "    </tr>\n",
       "    <tr>\n",
       "      <th>1</th>\n",
       "      <td>NaN</td>\n",
       "      <td>3812.0</td>\n",
       "      <td>2010s</td>\n",
       "      <td>2 Chainz</td>\n",
       "      <td>2 Chainz</td>\n",
       "      <td>NaN</td>\n",
       "      <td>2chainz</td>\n",
       "      <td>poster</td>\n",
       "    </tr>\n",
       "    <tr>\n",
       "      <th>2</th>\n",
       "      <td>NaN</td>\n",
       "      <td>3815.0</td>\n",
       "      <td>1990s</td>\n",
       "      <td>2Pac</td>\n",
       "      <td>2Pac</td>\n",
       "      <td>west nowutang second</td>\n",
       "      <td>2pac</td>\n",
       "      <td>site</td>\n",
       "    </tr>\n",
       "    <tr>\n",
       "      <th>3</th>\n",
       "      <td>NaN</td>\n",
       "      <td>3384.0</td>\n",
       "      <td>2000s</td>\n",
       "      <td>50 Cent</td>\n",
       "      <td>50 Cent</td>\n",
       "      <td>east nowutang first</td>\n",
       "      <td>50-cent</td>\n",
       "      <td>site</td>\n",
       "    </tr>\n",
       "    <tr>\n",
       "      <th>4</th>\n",
       "      <td>NaN</td>\n",
       "      <td>4534.0</td>\n",
       "      <td>2010s</td>\n",
       "      <td>Ab-Soul</td>\n",
       "      <td>Ab-Soul</td>\n",
       "      <td>NaN</td>\n",
       "      <td>absoul</td>\n",
       "      <td>new</td>\n",
       "    </tr>\n",
       "  </tbody>\n",
       "</table>\n",
       "</div>"
      ],
      "text/plain": [
       "  notes   words    era     rapper rapper_clean                 color  \\\n",
       "0   NaN  2988.0  2010s  21 Savage    21 Savage                   NaN   \n",
       "1   NaN  3812.0  2010s   2 Chainz     2 Chainz                   NaN   \n",
       "2   NaN  3815.0  1990s       2Pac         2Pac  west nowutang second   \n",
       "3   NaN  3384.0  2000s    50 Cent      50 Cent   east nowutang first   \n",
       "4   NaN  4534.0  2010s    Ab-Soul      Ab-Soul                   NaN   \n",
       "\n",
       "          id  source  \n",
       "0  21-savage     new  \n",
       "1    2chainz  poster  \n",
       "2       2pac    site  \n",
       "3    50-cent    site  \n",
       "4     absoul     new  "
      ]
     },
     "execution_count": 77,
     "metadata": {},
     "output_type": "execute_result"
    }
   ],
   "source": [
    "# 'recalc' is 'words' column converted to float, so going to delete 'words' column and rename 'recalc' to 'words'\n",
    "data.drop(columns=['words'], inplace=True)\n",
    "data.rename(index=str, columns={\"recalc\": \"words\"}, inplace=True)\n",
    "data.head()"
   ]
  },
  {
   "cell_type": "code",
   "execution_count": 82,
   "metadata": {},
   "outputs": [
    {
     "data": {
      "text/html": [
       "<div>\n",
       "<style scoped>\n",
       "    .dataframe tbody tr th:only-of-type {\n",
       "        vertical-align: middle;\n",
       "    }\n",
       "\n",
       "    .dataframe tbody tr th {\n",
       "        vertical-align: top;\n",
       "    }\n",
       "\n",
       "    .dataframe thead tr th {\n",
       "        text-align: left;\n",
       "    }\n",
       "\n",
       "    .dataframe thead tr:last-of-type th {\n",
       "        text-align: right;\n",
       "    }\n",
       "</style>\n",
       "<table border=\"1\" class=\"dataframe\">\n",
       "  <thead>\n",
       "    <tr>\n",
       "      <th></th>\n",
       "      <th colspan=\"4\" halign=\"left\">words</th>\n",
       "    </tr>\n",
       "    <tr>\n",
       "      <th></th>\n",
       "      <th>count</th>\n",
       "      <th>mean</th>\n",
       "      <th>max</th>\n",
       "      <th>min</th>\n",
       "    </tr>\n",
       "    <tr>\n",
       "      <th>era</th>\n",
       "      <th></th>\n",
       "      <th></th>\n",
       "      <th></th>\n",
       "      <th></th>\n",
       "    </tr>\n",
       "  </thead>\n",
       "  <tbody>\n",
       "    <tr>\n",
       "      <th>1980s</th>\n",
       "      <td>8</td>\n",
       "      <td>4207.500000</td>\n",
       "      <td>4655.0</td>\n",
       "      <td>2778.0</td>\n",
       "    </tr>\n",
       "    <tr>\n",
       "      <th>1990s</th>\n",
       "      <td>45</td>\n",
       "      <td>4546.377778</td>\n",
       "      <td>6390.0</td>\n",
       "      <td>2936.0</td>\n",
       "    </tr>\n",
       "    <tr>\n",
       "      <th>2000s</th>\n",
       "      <td>50</td>\n",
       "      <td>4633.580000</td>\n",
       "      <td>7879.0</td>\n",
       "      <td>3275.0</td>\n",
       "    </tr>\n",
       "    <tr>\n",
       "      <th>2010s</th>\n",
       "      <td>57</td>\n",
       "      <td>3722.807018</td>\n",
       "      <td>5413.0</td>\n",
       "      <td>2472.0</td>\n",
       "    </tr>\n",
       "  </tbody>\n",
       "</table>\n",
       "</div>"
      ],
      "text/plain": [
       "      words                             \n",
       "      count         mean     max     min\n",
       "era                                     \n",
       "1980s     8  4207.500000  4655.0  2778.0\n",
       "1990s    45  4546.377778  6390.0  2936.0\n",
       "2000s    50  4633.580000  7879.0  3275.0\n",
       "2010s    57  3722.807018  5413.0  2472.0"
      ]
     },
     "execution_count": 82,
     "metadata": {},
     "output_type": "execute_result"
    }
   ],
   "source": [
    "data.groupby('era').agg(['count', 'mean', 'max', 'min'])"
   ]
  },
  {
   "cell_type": "code",
   "execution_count": 79,
   "metadata": {},
   "outputs": [],
   "source": [
    "# because 1999s belongs in 1990s and there is only one entry, going to replace 1999s by 1990s\n",
    "data.replace('1999s', '1990s', inplace = True)"
   ]
  },
  {
   "cell_type": "code",
   "execution_count": 83,
   "metadata": {},
   "outputs": [
    {
     "data": {
      "text/html": [
       "<div>\n",
       "<style scoped>\n",
       "    .dataframe tbody tr th:only-of-type {\n",
       "        vertical-align: middle;\n",
       "    }\n",
       "\n",
       "    .dataframe tbody tr th {\n",
       "        vertical-align: top;\n",
       "    }\n",
       "\n",
       "    .dataframe thead tr th {\n",
       "        text-align: left;\n",
       "    }\n",
       "\n",
       "    .dataframe thead tr:last-of-type th {\n",
       "        text-align: right;\n",
       "    }\n",
       "</style>\n",
       "<table border=\"1\" class=\"dataframe\">\n",
       "  <thead>\n",
       "    <tr>\n",
       "      <th></th>\n",
       "      <th colspan=\"4\" halign=\"left\">words</th>\n",
       "    </tr>\n",
       "    <tr>\n",
       "      <th></th>\n",
       "      <th>count</th>\n",
       "      <th>mean</th>\n",
       "      <th>max</th>\n",
       "      <th>min</th>\n",
       "    </tr>\n",
       "    <tr>\n",
       "      <th>era</th>\n",
       "      <th></th>\n",
       "      <th></th>\n",
       "      <th></th>\n",
       "      <th></th>\n",
       "    </tr>\n",
       "  </thead>\n",
       "  <tbody>\n",
       "    <tr>\n",
       "      <th>1980s</th>\n",
       "      <td>8</td>\n",
       "      <td>4207.500000</td>\n",
       "      <td>4655.0</td>\n",
       "      <td>2778.0</td>\n",
       "    </tr>\n",
       "    <tr>\n",
       "      <th>1990s</th>\n",
       "      <td>45</td>\n",
       "      <td>4546.377778</td>\n",
       "      <td>6390.0</td>\n",
       "      <td>2936.0</td>\n",
       "    </tr>\n",
       "    <tr>\n",
       "      <th>2000s</th>\n",
       "      <td>50</td>\n",
       "      <td>4633.580000</td>\n",
       "      <td>7879.0</td>\n",
       "      <td>3275.0</td>\n",
       "    </tr>\n",
       "    <tr>\n",
       "      <th>2010s</th>\n",
       "      <td>57</td>\n",
       "      <td>3722.807018</td>\n",
       "      <td>5413.0</td>\n",
       "      <td>2472.0</td>\n",
       "    </tr>\n",
       "  </tbody>\n",
       "</table>\n",
       "</div>"
      ],
      "text/plain": [
       "      words                             \n",
       "      count         mean     max     min\n",
       "era                                     \n",
       "1980s     8  4207.500000  4655.0  2778.0\n",
       "1990s    45  4546.377778  6390.0  2936.0\n",
       "2000s    50  4633.580000  7879.0  3275.0\n",
       "2010s    57  3722.807018  5413.0  2472.0"
      ]
     },
     "execution_count": 83,
     "metadata": {},
     "output_type": "execute_result"
    }
   ],
   "source": [
    "grp_by_era = data.groupby('era').agg(['count', 'mean', 'max', 'min'])\n",
    "grp_by_era"
   ]
  },
  {
   "cell_type": "code",
   "execution_count": 104,
   "metadata": {},
   "outputs": [
    {
     "data": {
      "text/plain": [
       "<matplotlib.axes._subplots.AxesSubplot at 0x7f54edd16c50>"
      ]
     },
     "execution_count": 104,
     "metadata": {},
     "output_type": "execute_result"
    },
    {
     "data": {
      "image/png": "[encoded data removed]",
      "text/plain": [
       "<Figure size 432x288 with 1 Axes>"
      ]
     },
     "metadata": {
      "needs_background": "light"
     },
     "output_type": "display_data"
    }
   ],
   "source": [
    "grp_by_era.iloc[:, grp_by_era.columns.get_level_values(1)=='mean'].plot.bar()"
   ]
  },
  {
   "cell_type": "code",
   "execution_count": 91,
   "metadata": {},
   "outputs": [],
   "source": [
    "max_idx = data[['era','words','rapper_clean']].groupby('era')['words'].idxmax()\n",
    "min_idx = data[['era','words','rapper_clean']].groupby('era')['words'].idxmin()\n",
    "max_words = data.loc[max_idx,][['era','words','rapper_clean']]\n",
    "min_words = data.loc[min_idx,][['era','words','rapper_clean']]"
   ]
  },
  {
   "cell_type": "code",
   "execution_count": 85,
   "metadata": {},
   "outputs": [
    {
     "data": {
      "text/html": [
       "<div>\n",
       "<style scoped>\n",
       "    .dataframe tbody tr th:only-of-type {\n",
       "        vertical-align: middle;\n",
       "    }\n",
       "\n",
       "    .dataframe tbody tr th {\n",
       "        vertical-align: top;\n",
       "    }\n",
       "\n",
       "    .dataframe thead th {\n",
       "        text-align: right;\n",
       "    }\n",
       "</style>\n",
       "<table border=\"1\" class=\"dataframe\">\n",
       "  <thead>\n",
       "    <tr style=\"text-align: right;\">\n",
       "      <th></th>\n",
       "      <th>era</th>\n",
       "      <th>words</th>\n",
       "      <th>rapper_clean</th>\n",
       "    </tr>\n",
       "  </thead>\n",
       "  <tbody>\n",
       "    <tr>\n",
       "      <th>11</th>\n",
       "      <td>1980s</td>\n",
       "      <td>4655.0</td>\n",
       "      <td>Big Daddy Kane</td>\n",
       "    </tr>\n",
       "    <tr>\n",
       "      <th>57</th>\n",
       "      <td>1990s</td>\n",
       "      <td>6390.0</td>\n",
       "      <td>GZA</td>\n",
       "    </tr>\n",
       "    <tr>\n",
       "      <th>6</th>\n",
       "      <td>2000s</td>\n",
       "      <td>7879.0</td>\n",
       "      <td>Aesop Rock</td>\n",
       "    </tr>\n",
       "    <tr>\n",
       "      <th>154</th>\n",
       "      <td>2010s</td>\n",
       "      <td>5413.0</td>\n",
       "      <td>Watsky</td>\n",
       "    </tr>\n",
       "  </tbody>\n",
       "</table>\n",
       "</div>"
      ],
      "text/plain": [
       "       era   words    rapper_clean\n",
       "11   1980s  4655.0  Big Daddy Kane\n",
       "57   1990s  6390.0             GZA\n",
       "6    2000s  7879.0      Aesop Rock\n",
       "154  2010s  5413.0          Watsky"
      ]
     },
     "execution_count": 85,
     "metadata": {},
     "output_type": "execute_result"
    }
   ],
   "source": [
    "max_words.head()"
   ]
  },
  {
   "cell_type": "code",
   "execution_count": 86,
   "metadata": {},
   "outputs": [
    {
     "data": {
      "text/html": [
       "<div>\n",
       "<style scoped>\n",
       "    .dataframe tbody tr th:only-of-type {\n",
       "        vertical-align: middle;\n",
       "    }\n",
       "\n",
       "    .dataframe tbody tr th {\n",
       "        vertical-align: top;\n",
       "    }\n",
       "\n",
       "    .dataframe thead th {\n",
       "        text-align: right;\n",
       "    }\n",
       "</style>\n",
       "<table border=\"1\" class=\"dataframe\">\n",
       "  <thead>\n",
       "    <tr style=\"text-align: right;\">\n",
       "      <th></th>\n",
       "      <th>era</th>\n",
       "      <th>words</th>\n",
       "      <th>rapper_clean</th>\n",
       "    </tr>\n",
       "  </thead>\n",
       "  <tbody>\n",
       "    <tr>\n",
       "      <th>143</th>\n",
       "      <td>1980s</td>\n",
       "      <td>2778.0</td>\n",
       "      <td>Too Short</td>\n",
       "    </tr>\n",
       "    <tr>\n",
       "      <th>41</th>\n",
       "      <td>1990s</td>\n",
       "      <td>2936.0</td>\n",
       "      <td>DMX</td>\n",
       "    </tr>\n",
       "    <tr>\n",
       "      <th>72</th>\n",
       "      <td>2000s</td>\n",
       "      <td>3275.0</td>\n",
       "      <td>Juicy J</td>\n",
       "    </tr>\n",
       "    <tr>\n",
       "      <th>114</th>\n",
       "      <td>2010s</td>\n",
       "      <td>2472.0</td>\n",
       "      <td>NF</td>\n",
       "    </tr>\n",
       "  </tbody>\n",
       "</table>\n",
       "</div>"
      ],
      "text/plain": [
       "       era   words rapper_clean\n",
       "143  1980s  2778.0    Too Short\n",
       "41   1990s  2936.0          DMX\n",
       "72   2000s  3275.0      Juicy J\n",
       "114  2010s  2472.0           NF"
      ]
     },
     "execution_count": 86,
     "metadata": {},
     "output_type": "execute_result"
    }
   ],
   "source": [
    "min_words.head()"
   ]
  }
 ],
 "metadata": {
  "kernelspec": {
   "display_name": "Python 3",
   "language": "python",
   "name": "python3"
  },
  "language_info": {
   "codemirror_mode": {
    "name": "ipython",
    "version": 3
   },
   "file_extension": ".py",
   "mimetype": "text/x-python",
   "name": "python",
   "nbconvert_exporter": "python",
   "pygments_lexer": "ipython3",
   "version": "3.7.3"
  }
 },
 "nbformat": 4,
 "nbformat_minor": 2
}
