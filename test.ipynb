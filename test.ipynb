{
 "cells": [
  {
   "cell_type": "code",
   "execution_count": 39,
   "metadata": {},
   "outputs": [],
   "source": [
    "import pandas as pd\n",
    "import numpy as np\n",
    "import matplotlib.pyplot as plt"
   ]
  },
  {
   "cell_type": "code",
   "execution_count": 2,
   "metadata": {},
   "outputs": [],
   "source": [
    "%matplotlib inline"
   ]
  },
  {
   "cell_type": "code",
   "execution_count": 3,
   "metadata": {},
   "outputs": [],
   "source": [
    "data = pd.read_csv(\"Hip_Hop _ Vocab_Chart-Full.csv\")"
   ]
  },
  {
   "cell_type": "markdown",
   "metadata": {},
   "source": [
    "**Beginning of Exloratory Data Analysis**"
   ]
  },
  {
   "cell_type": "markdown",
   "metadata": {},
   "source": [
    "Going to peak at the dataset and see what the variable types are"
   ]
  },
  {
   "cell_type": "code",
   "execution_count": 4,
   "metadata": {},
   "outputs": [
    {
     "data": {
      "text/html": [
       "<div>\n",
       "<style scoped>\n",
       "    .dataframe tbody tr th:only-of-type {\n",
       "        vertical-align: middle;\n",
       "    }\n",
       "\n",
       "    .dataframe tbody tr th {\n",
       "        vertical-align: top;\n",
       "    }\n",
       "\n",
       "    .dataframe thead th {\n",
       "        text-align: right;\n",
       "    }\n",
       "</style>\n",
       "<table border=\"1\" class=\"dataframe\">\n",
       "  <thead>\n",
       "    <tr style=\"text-align: right;\">\n",
       "      <th></th>\n",
       "      <th>notes</th>\n",
       "      <th>recalc</th>\n",
       "      <th>era</th>\n",
       "      <th>rapper</th>\n",
       "      <th>rapper_clean</th>\n",
       "      <th>color</th>\n",
       "      <th>words</th>\n",
       "      <th>id</th>\n",
       "      <th>source</th>\n",
       "    </tr>\n",
       "  </thead>\n",
       "  <tbody>\n",
       "    <tr>\n",
       "      <th>0</th>\n",
       "      <td>NaN</td>\n",
       "      <td>2988.0</td>\n",
       "      <td>2010s</td>\n",
       "      <td>21 Savage</td>\n",
       "      <td>21 Savage</td>\n",
       "      <td>NaN</td>\n",
       "      <td>2988</td>\n",
       "      <td>21-savage</td>\n",
       "      <td>new</td>\n",
       "    </tr>\n",
       "    <tr>\n",
       "      <th>1</th>\n",
       "      <td>NaN</td>\n",
       "      <td>3812.0</td>\n",
       "      <td>2010s</td>\n",
       "      <td>2 Chainz</td>\n",
       "      <td>2 Chainz</td>\n",
       "      <td>NaN</td>\n",
       "      <td>4148</td>\n",
       "      <td>2chainz</td>\n",
       "      <td>poster</td>\n",
       "    </tr>\n",
       "    <tr>\n",
       "      <th>2</th>\n",
       "      <td>NaN</td>\n",
       "      <td>3815.0</td>\n",
       "      <td>1990s</td>\n",
       "      <td>2Pac</td>\n",
       "      <td>2Pac</td>\n",
       "      <td>west nowutang second</td>\n",
       "      <td>3,970</td>\n",
       "      <td>2pac</td>\n",
       "      <td>site</td>\n",
       "    </tr>\n",
       "    <tr>\n",
       "      <th>3</th>\n",
       "      <td>NaN</td>\n",
       "      <td>3384.0</td>\n",
       "      <td>2000s</td>\n",
       "      <td>50 Cent</td>\n",
       "      <td>50 Cent</td>\n",
       "      <td>east nowutang first</td>\n",
       "      <td>3,591</td>\n",
       "      <td>50-cent</td>\n",
       "      <td>site</td>\n",
       "    </tr>\n",
       "    <tr>\n",
       "      <th>4</th>\n",
       "      <td>NaN</td>\n",
       "      <td>4534.0</td>\n",
       "      <td>2010s</td>\n",
       "      <td>Ab-Soul</td>\n",
       "      <td>Ab-Soul</td>\n",
       "      <td>NaN</td>\n",
       "      <td>4534</td>\n",
       "      <td>absoul</td>\n",
       "      <td>new</td>\n",
       "    </tr>\n",
       "  </tbody>\n",
       "</table>\n",
       "</div>"
      ],
      "text/plain": [
       "  notes  recalc    era     rapper rapper_clean                 color  words  \\\n",
       "0   NaN  2988.0  2010s  21 Savage    21 Savage                   NaN   2988   \n",
       "1   NaN  3812.0  2010s   2 Chainz     2 Chainz                   NaN   4148   \n",
       "2   NaN  3815.0  1990s       2Pac         2Pac  west nowutang second  3,970   \n",
       "3   NaN  3384.0  2000s    50 Cent      50 Cent   east nowutang first  3,591   \n",
       "4   NaN  4534.0  2010s    Ab-Soul      Ab-Soul                   NaN   4534   \n",
       "\n",
       "          id  source  \n",
       "0  21-savage     new  \n",
       "1    2chainz  poster  \n",
       "2       2pac    site  \n",
       "3    50-cent    site  \n",
       "4     absoul     new  "
      ]
     },
     "execution_count": 4,
     "metadata": {},
     "output_type": "execute_result"
    }
   ],
   "source": [
    "data.head()"
   ]
  },
  {
   "cell_type": "code",
   "execution_count": 5,
   "metadata": {},
   "outputs": [
    {
     "data": {
      "text/plain": [
       "notes            object\n",
       "recalc          float64\n",
       "era              object\n",
       "rapper           object\n",
       "rapper_clean     object\n",
       "color            object\n",
       "words            object\n",
       "id               object\n",
       "source           object\n",
       "dtype: object"
      ]
     },
     "execution_count": 5,
     "metadata": {},
     "output_type": "execute_result"
    }
   ],
   "source": [
    "data.dtypes"
   ]
  },
  {
   "cell_type": "markdown",
   "metadata": {},
   "source": [
    "To begin, I'm going to play around with the naming of some of these variables to my liking. "
   ]
  },
  {
   "cell_type": "markdown",
   "metadata": {},
   "source": [
    "[Here's why](https://twitter.com/kanyewest/status/1018432945839673344?ref_src=twsrc%5Etfw%7Ctwcamp%5Etweetembed%7Ctwterm%5E1018432945839673344&ref_url=https%3A%2F%2Fwww.channel24.co.za%2FMusic%2FNews%2Fkanye-west-doesnt-want-journalists-to-call-him-a-rapper-20180716)\n",
    "\n",
    "\n",
    "[Because ye insist's](https://twitter.com/kanyewest/status/1018433346668453889?ref_src=twsrc%5Etfw%7Ctwcamp%5Etweetembed%7Ctwterm%5E1018433346668453889&ref_url=https%3A%2F%2Fwww.channel24.co.za%2FMusic%2FNews%2Fkanye-west-doesnt-want-journalists-to-call-him-a-rapper-20180716)"
   ]
  },
  {
   "cell_type": "code",
   "execution_count": 7,
   "metadata": {},
   "outputs": [],
   "source": [
    "data.rename(index=str, columns={\"rapper\": \"artist\"}, inplace=True)\n",
    "data.drop(columns=['rapper_clean', 'notes', 'color'], inplace=True)"
   ]
  },
  {
   "cell_type": "markdown",
   "metadata": {},
   "source": [
    "'recalc' is 'words' column converted to float, so going to delete 'words' column and rename 'recalc' to 'words'"
   ]
  },
  {
   "cell_type": "code",
   "execution_count": 8,
   "metadata": {},
   "outputs": [
    {
     "data": {
      "text/html": [
       "<div>\n",
       "<style scoped>\n",
       "    .dataframe tbody tr th:only-of-type {\n",
       "        vertical-align: middle;\n",
       "    }\n",
       "\n",
       "    .dataframe tbody tr th {\n",
       "        vertical-align: top;\n",
       "    }\n",
       "\n",
       "    .dataframe thead th {\n",
       "        text-align: right;\n",
       "    }\n",
       "</style>\n",
       "<table border=\"1\" class=\"dataframe\">\n",
       "  <thead>\n",
       "    <tr style=\"text-align: right;\">\n",
       "      <th></th>\n",
       "      <th>words</th>\n",
       "      <th>era</th>\n",
       "      <th>artist</th>\n",
       "      <th>id</th>\n",
       "      <th>source</th>\n",
       "    </tr>\n",
       "  </thead>\n",
       "  <tbody>\n",
       "    <tr>\n",
       "      <th>0</th>\n",
       "      <td>2988.0</td>\n",
       "      <td>2010s</td>\n",
       "      <td>21 Savage</td>\n",
       "      <td>21-savage</td>\n",
       "      <td>new</td>\n",
       "    </tr>\n",
       "    <tr>\n",
       "      <th>1</th>\n",
       "      <td>3812.0</td>\n",
       "      <td>2010s</td>\n",
       "      <td>2 Chainz</td>\n",
       "      <td>2chainz</td>\n",
       "      <td>poster</td>\n",
       "    </tr>\n",
       "    <tr>\n",
       "      <th>2</th>\n",
       "      <td>3815.0</td>\n",
       "      <td>1990s</td>\n",
       "      <td>2Pac</td>\n",
       "      <td>2pac</td>\n",
       "      <td>site</td>\n",
       "    </tr>\n",
       "    <tr>\n",
       "      <th>3</th>\n",
       "      <td>3384.0</td>\n",
       "      <td>2000s</td>\n",
       "      <td>50 Cent</td>\n",
       "      <td>50-cent</td>\n",
       "      <td>site</td>\n",
       "    </tr>\n",
       "    <tr>\n",
       "      <th>4</th>\n",
       "      <td>4534.0</td>\n",
       "      <td>2010s</td>\n",
       "      <td>Ab-Soul</td>\n",
       "      <td>absoul</td>\n",
       "      <td>new</td>\n",
       "    </tr>\n",
       "  </tbody>\n",
       "</table>\n",
       "</div>"
      ],
      "text/plain": [
       "    words    era     artist         id  source\n",
       "0  2988.0  2010s  21 Savage  21-savage     new\n",
       "1  3812.0  2010s   2 Chainz    2chainz  poster\n",
       "2  3815.0  1990s       2Pac       2pac    site\n",
       "3  3384.0  2000s    50 Cent    50-cent    site\n",
       "4  4534.0  2010s    Ab-Soul     absoul     new"
      ]
     },
     "execution_count": 8,
     "metadata": {},
     "output_type": "execute_result"
    }
   ],
   "source": [
    "data.drop(columns=['words'], inplace=True)\n",
    "data.rename(index=str, columns={\"recalc\": \"words\"}, inplace=True)\n",
    "data.head()"
   ]
  },
  {
   "cell_type": "markdown",
   "metadata": {},
   "source": [
    "Most interesting variables to me are which era an artist is from and the number of unique words they have in their lyrics (per first 35,000 words of lyrics). So I'm going to group the dataset by era and get some basic summary values."
   ]
  },
  {
   "cell_type": "code",
   "execution_count": 9,
   "metadata": {},
   "outputs": [
    {
     "data": {
      "text/html": [
       "<div>\n",
       "<style scoped>\n",
       "    .dataframe tbody tr th:only-of-type {\n",
       "        vertical-align: middle;\n",
       "    }\n",
       "\n",
       "    .dataframe tbody tr th {\n",
       "        vertical-align: top;\n",
       "    }\n",
       "\n",
       "    .dataframe thead tr th {\n",
       "        text-align: left;\n",
       "    }\n",
       "\n",
       "    .dataframe thead tr:last-of-type th {\n",
       "        text-align: right;\n",
       "    }\n",
       "</style>\n",
       "<table border=\"1\" class=\"dataframe\">\n",
       "  <thead>\n",
       "    <tr>\n",
       "      <th></th>\n",
       "      <th colspan=\"4\" halign=\"left\">words</th>\n",
       "    </tr>\n",
       "    <tr>\n",
       "      <th></th>\n",
       "      <th>count</th>\n",
       "      <th>mean</th>\n",
       "      <th>max</th>\n",
       "      <th>min</th>\n",
       "    </tr>\n",
       "    <tr>\n",
       "      <th>era</th>\n",
       "      <th></th>\n",
       "      <th></th>\n",
       "      <th></th>\n",
       "      <th></th>\n",
       "    </tr>\n",
       "  </thead>\n",
       "  <tbody>\n",
       "    <tr>\n",
       "      <th>1980s</th>\n",
       "      <td>8</td>\n",
       "      <td>4207.500000</td>\n",
       "      <td>4655.0</td>\n",
       "      <td>2778.0</td>\n",
       "    </tr>\n",
       "    <tr>\n",
       "      <th>1990s</th>\n",
       "      <td>44</td>\n",
       "      <td>4544.704545</td>\n",
       "      <td>6390.0</td>\n",
       "      <td>2936.0</td>\n",
       "    </tr>\n",
       "    <tr>\n",
       "      <th>1999s</th>\n",
       "      <td>1</td>\n",
       "      <td>4620.000000</td>\n",
       "      <td>4620.0</td>\n",
       "      <td>4620.0</td>\n",
       "    </tr>\n",
       "    <tr>\n",
       "      <th>2000s</th>\n",
       "      <td>50</td>\n",
       "      <td>4633.580000</td>\n",
       "      <td>7879.0</td>\n",
       "      <td>3275.0</td>\n",
       "    </tr>\n",
       "    <tr>\n",
       "      <th>2010s</th>\n",
       "      <td>57</td>\n",
       "      <td>3722.807018</td>\n",
       "      <td>5413.0</td>\n",
       "      <td>2472.0</td>\n",
       "    </tr>\n",
       "  </tbody>\n",
       "</table>\n",
       "</div>"
      ],
      "text/plain": [
       "      words                             \n",
       "      count         mean     max     min\n",
       "era                                     \n",
       "1980s     8  4207.500000  4655.0  2778.0\n",
       "1990s    44  4544.704545  6390.0  2936.0\n",
       "1999s     1  4620.000000  4620.0  4620.0\n",
       "2000s    50  4633.580000  7879.0  3275.0\n",
       "2010s    57  3722.807018  5413.0  2472.0"
      ]
     },
     "execution_count": 9,
     "metadata": {},
     "output_type": "execute_result"
    }
   ],
   "source": [
    "data.groupby('era').agg(['count', 'mean', 'max', 'min'])"
   ]
  },
  {
   "cell_type": "markdown",
   "metadata": {},
   "source": [
    "Because 1999s belongs in 1990s and there is only one entry, going to replace 1999s by 1990s"
   ]
  },
  {
   "cell_type": "code",
   "execution_count": 10,
   "metadata": {},
   "outputs": [],
   "source": [
    "data.replace('1999s', '1990s', inplace = True)"
   ]
  },
  {
   "cell_type": "code",
   "execution_count": 11,
   "metadata": {},
   "outputs": [
    {
     "data": {
      "text/html": [
       "<div>\n",
       "<style scoped>\n",
       "    .dataframe tbody tr th:only-of-type {\n",
       "        vertical-align: middle;\n",
       "    }\n",
       "\n",
       "    .dataframe tbody tr th {\n",
       "        vertical-align: top;\n",
       "    }\n",
       "\n",
       "    .dataframe thead tr th {\n",
       "        text-align: left;\n",
       "    }\n",
       "\n",
       "    .dataframe thead tr:last-of-type th {\n",
       "        text-align: right;\n",
       "    }\n",
       "</style>\n",
       "<table border=\"1\" class=\"dataframe\">\n",
       "  <thead>\n",
       "    <tr>\n",
       "      <th></th>\n",
       "      <th colspan=\"4\" halign=\"left\">words</th>\n",
       "    </tr>\n",
       "    <tr>\n",
       "      <th></th>\n",
       "      <th>count</th>\n",
       "      <th>mean</th>\n",
       "      <th>max</th>\n",
       "      <th>min</th>\n",
       "    </tr>\n",
       "    <tr>\n",
       "      <th>era</th>\n",
       "      <th></th>\n",
       "      <th></th>\n",
       "      <th></th>\n",
       "      <th></th>\n",
       "    </tr>\n",
       "  </thead>\n",
       "  <tbody>\n",
       "    <tr>\n",
       "      <th>1980s</th>\n",
       "      <td>8</td>\n",
       "      <td>4207.500000</td>\n",
       "      <td>4655.0</td>\n",
       "      <td>2778.0</td>\n",
       "    </tr>\n",
       "    <tr>\n",
       "      <th>1990s</th>\n",
       "      <td>45</td>\n",
       "      <td>4546.377778</td>\n",
       "      <td>6390.0</td>\n",
       "      <td>2936.0</td>\n",
       "    </tr>\n",
       "    <tr>\n",
       "      <th>2000s</th>\n",
       "      <td>50</td>\n",
       "      <td>4633.580000</td>\n",
       "      <td>7879.0</td>\n",
       "      <td>3275.0</td>\n",
       "    </tr>\n",
       "    <tr>\n",
       "      <th>2010s</th>\n",
       "      <td>57</td>\n",
       "      <td>3722.807018</td>\n",
       "      <td>5413.0</td>\n",
       "      <td>2472.0</td>\n",
       "    </tr>\n",
       "  </tbody>\n",
       "</table>\n",
       "</div>"
      ],
      "text/plain": [
       "      words                             \n",
       "      count         mean     max     min\n",
       "era                                     \n",
       "1980s     8  4207.500000  4655.0  2778.0\n",
       "1990s    45  4546.377778  6390.0  2936.0\n",
       "2000s    50  4633.580000  7879.0  3275.0\n",
       "2010s    57  3722.807018  5413.0  2472.0"
      ]
     },
     "execution_count": 11,
     "metadata": {},
     "output_type": "execute_result"
    }
   ],
   "source": [
    "grp_by_era = data.groupby('era').agg(['count', 'mean', 'max', 'min'])\n",
    "grp_by_era"
   ]
  },
  {
   "cell_type": "markdown",
   "metadata": {},
   "source": [
    "I can see that there is a significant drop in number of unique words for artists in the 2010s era. Going to plot this data to better visualize this. "
   ]
  },
  {
   "cell_type": "code",
   "execution_count": 12,
   "metadata": {},
   "outputs": [
    {
     "data": {
      "text/plain": [
       "<matplotlib.axes._subplots.AxesSubplot at 0x7fe97523cba8>"
      ]
     },
     "execution_count": 12,
     "metadata": {},
     "output_type": "execute_result"
    },
    {
     "data": {
      "image/png": "[encoded data removed]",
      "text/plain": [
       "<Figure size 432x288 with 1 Axes>"
      ]
     },
     "metadata": {
      "needs_background": "light"
     },
     "output_type": "display_data"
    }
   ],
   "source": [
    "grp_by_era.iloc[:, grp_by_era.columns.get_level_values(1)=='mean'].plot.bar()"
   ]
  },
  {
   "cell_type": "markdown",
   "metadata": {},
   "source": [
    "Now, the question I want to answer is, **is the drop in number of unique words in an artist's lyrics in the 2010s era statistically significant?**"
   ]
  },
  {
   "cell_type": "markdown",
   "metadata": {},
   "source": [
    "To begin, what I'm essentially doing is comparing means of more than two groups. To compare the means of two groups, I could do a T- test, however, because we have 4 groups (eras), I must do a one-way ANOVA (Analysis of Variance)test.\n",
    "\n",
    "ANOVA test is used to determine whether there are any statistically significant differences between means of three or more groups. It is key to rememeber that ANOVA is an \"omnibus\" test, i.e it only tells us if two or more groups are different statistically significantly. (yikes, wording). "
   ]
  },
  {
   "cell_type": "markdown",
   "metadata": {},
   "source": [
    "Before I perform an ANOVA test, I must first make sure that the dataset meets **three conditions**: \n",
    "    * The dependent variable (in this case, 'words') is normally distributed -->  \"Normality\"\n",
    "    * The variance in the data for each group are equal --> \"Homoegeniety of variance\"\n",
    "    * \"Independence of observations\""
   ]
  },
  {
   "cell_type": "markdown",
   "metadata": {},
   "source": [
    "I'll perform the first 2 tests and proceed with testing for statistical significance. At the end, I'll have a discussion about the \"Independence of observations\". "
   ]
  },
  {
   "cell_type": "markdown",
   "metadata": {},
   "source": [
    "** checking for \"Normality\" condition **\n",
    "\n",
    "To begin, I'll plot a boxplot for my data. If each group has normally distributed datapoints, then the box plots would look fairly symmetric. So I'm looking to see if any group has a boxplot that is not blatantly skewed. "
   ]
  },
  {
   "cell_type": "code",
   "execution_count": 13,
   "metadata": {},
   "outputs": [
    {
     "data": {
      "text/plain": [
       "<matplotlib.axes._subplots.AxesSubplot at 0x7fe974325fd0>"
      ]
     },
     "execution_count": 13,
     "metadata": {},
     "output_type": "execute_result"
    },
    {
     "data": {
      "image/png": "[encoded data removed]",
      "text/plain": [
       "<Figure size 432x288 with 1 Axes>"
      ]
     },
     "metadata": {
      "needs_background": "light"
     },
     "output_type": "display_data"
    }
   ],
   "source": [
    "data[['era','words']].boxplot('words', by='era')"
   ]
  },
  {
   "cell_type": "markdown",
   "metadata": {},
   "source": [
    "As it can be see, not all groups have datapoints which are normaly distributed. Datapoints in the 80s are fairly skewed and datapoints for the 00s era are quite clearly skewed to the right. This indicates that perhaps these data don't meet the required normality condition for the ANOVA test. "
   ]
  },
  {
   "cell_type": "markdown",
   "metadata": {},
   "source": [
    "A somewhat more telling test for normality is plotting a Normal Q-Q plot. "
   ]
  },
  {
   "cell_type": "code",
   "execution_count": 43,
   "metadata": {},
   "outputs": [
    {
     "data": {
      "image/png": "[encoded data removed]",
      "text/plain": [
       "<Figure size 432x288 with 1 Axes>"
      ]
     },
     "metadata": {
      "needs_background": "light"
     },
     "output_type": "display_data"
    },
    {
     "data": {
      "image/png": "[encoded data removed]",
      "text/plain": [
       "<Figure size 432x288 with 1 Axes>"
      ]
     },
     "metadata": {
      "needs_background": "light"
     },
     "output_type": "display_data"
    },
    {
     "data": {
      "image/png": "[encoded data removed]",
      "text/plain": [
       "<Figure size 432x288 with 1 Axes>"
      ]
     },
     "metadata": {
      "needs_background": "light"
     },
     "output_type": "display_data"
    },
    {
     "data": {
      "image/png": "[encoded data removed]",
      "text/plain": [
       "<Figure size 432x288 with 1 Axes>"
      ]
     },
     "metadata": {
      "needs_background": "light"
     },
     "output_type": "display_data"
    }
   ],
   "source": [
    "groups = list(data.groupby('era').groups.keys())\n",
    "for group in groups:\n",
    "    obs = np.array(data['words'][data['era']== group])\n",
    "    z = (obs-np.mean(obs))/np.std(obs)\n",
    "    stats.probplot(z, dist=\"norm\", plot=plt)\n",
    "    plt.title(\"Normal Q-Q plot for:\" + group)\n",
    "    plt.show()\n",
    "    "
   ]
  },
  {
   "cell_type": "markdown",
   "metadata": {},
   "source": [
    "From these plots, it's quite clear that data from the 80s era can't be used for any statistical inference, for there are far too few datapoints in that era. Once again, datapoints from the 90s and 10s show least deviation from the normal, indicative of their underlying normal distribution - certainly more so from the deviation from the normal of the 00s era datapoints. "
   ]
  },
  {
   "cell_type": "markdown",
   "metadata": {},
   "source": [
    "There are more graphical tests that can be performed, such as plotting histograms, to gauge whether the data meets the normality condition. However, graphical methods are only qualitative and thus it helps to also perform some statistical test to check for the normality condition. "
   ]
  },
  {
   "cell_type": "code",
   "execution_count": 41,
   "metadata": {},
   "outputs": [
    {
     "data": {
      "text/plain": [
       "<matplotlib.axes._subplots.AxesSubplot at 0x7fe404434ac8>"
      ]
     },
     "execution_count": 41,
     "metadata": {},
     "output_type": "execute_result"
    },
    {
     "data": {
      "image/png": "[encoded data removed]",
      "text/plain": [
       "<Figure size 432x288 with 1 Axes>"
      ]
     },
     "metadata": {
      "needs_background": "light"
     },
     "output_type": "display_data"
    }
   ],
   "source": [
    "data['words'][data['era'] == '1990s'].hist(bins=15)"
   ]
  },
  {
   "cell_type": "code",
   "execution_count": 29,
   "metadata": {},
   "outputs": [],
   "source": [
    "from scipy import stats"
   ]
  },
  {
   "cell_type": "code",
   "execution_count": 26,
   "metadata": {},
   "outputs": [
    {
     "data": {
      "text/plain": [
       "((0.9846952557563782, 0.8083436489105225),\n",
       " (0.9788727760314941, 0.4170992374420166))"
      ]
     },
     "execution_count": 26,
     "metadata": {},
     "output_type": "execute_result"
    }
   ],
   "source": [
    "shap_test_ninties = stats.shapiro(data['words'][data['era'] == '1990s'])\n",
    "shap_test_twentytens = stats.shapiro(data['words'][data['era'] == '2010s'])\n",
    "shap_test_ninties, shap_test_twentytens"
   ]
  },
  {
   "cell_type": "code",
   "execution_count": 13,
   "metadata": {},
   "outputs": [
    {
     "data": {
      "text/plain": [
       "F_onewayResult(statistic=12.866508141122921, pvalue=1.4814110468608688e-07)"
      ]
     },
     "execution_count": 13,
     "metadata": {},
     "output_type": "execute_result"
    }
   ],
   "source": [
    "# anova test to see atleast one mean is statistically different from the rest, given low p-val, yes.\n",
    "stats.f_oneway(data['words'][data['era'] == '1980s'],\n",
    "             data['words'][data['era'] == '1990s'],\n",
    "             data['words'][data['era'] == '2000s'],\n",
    "             data['words'][data['era'] == '2010s'])"
   ]
  },
  {
   "cell_type": "code",
   "execution_count": 14,
   "metadata": {},
   "outputs": [
    {
     "data": {
      "text/plain": [
       "(Ttest_indResult(statistic=-1.1733684971843248, pvalue=0.24609899989971892),\n",
       " Ttest_indResult(statistic=-1.115576134045436, pvalue=0.26936798984985877),\n",
       " Ttest_indResult(statistic=1.860506106507783, pvalue=0.06748256111528092),\n",
       " Ttest_indResult(statistic=-0.4584792347596082, pvalue=0.6476777898993749),\n",
       " Ttest_indResult(statistic=5.654852370186192, pvalue=1.4834503913307314e-07),\n",
       " Ttest_indResult(statistic=5.358893197884523, pvalue=4.989772891200519e-07))"
      ]
     },
     "execution_count": 14,
     "metadata": {},
     "output_type": "execute_result"
    }
   ],
   "source": [
    "# fishers LSD to find out which means are stat. diff.\n",
    "# drop from 2000s to 2010s (and 1990s to 2010s) is stat. sig\n",
    "a = stats.ttest_ind(data['words'][data['era'] == '1980s'], data['words'][data['era'] == '1990s'])\n",
    "b = stats.ttest_ind(data['words'][data['era'] == '1980s'], data['words'][data['era'] == '2000s'])\n",
    "c = stats.ttest_ind(data['words'][data['era'] == '1980s'], data['words'][data['era'] == '2010s'])\n",
    "d = stats.ttest_ind(data['words'][data['era'] == '1990s'], data['words'][data['era'] == '2000s'])\n",
    "e = stats.ttest_ind(data['words'][data['era'] == '1990s'], data['words'][data['era'] == '2010s'])\n",
    "f = stats.ttest_ind(data['words'][data['era'] == '2000s'], data['words'][data['era'] == '2010s'])\n",
    "a,b,c,d,e,f"
   ]
  },
  {
   "cell_type": "code",
   "execution_count": 15,
   "metadata": {},
   "outputs": [
    {
     "data": {
      "text/plain": [
       "(F_onewayResult(statistic=28.71773630633302, pvalue=4.989772891200487e-07),\n",
       " F_onewayResult(statistic=1.3767936301846004, pvalue=0.24609899989971723),\n",
       " F_onewayResult(statistic=0.210203208705756, pvalue=0.6476777898993765))"
      ]
     },
     "execution_count": 15,
     "metadata": {},
     "output_type": "execute_result"
    }
   ],
   "source": [
    "# alternatively can do one_way anova tests but doing them pairwise gives same res as doing t tests \n",
    "# (which are by def supposed to be done between 2 groups)\n",
    "data_anova = data[['era','words']].groupby(['era'])\n",
    "anova_res_1 = stats.f_oneway(data_anova.get_group('2000s')['words'],data_anova.get_group('2010s')['words'])\n",
    "anova_res_2 = stats.f_oneway(data_anova.get_group('1980s')['words'],data_anova.get_group('1990s')['words'])\n",
    "anova_res_3 = stats.f_oneway(data_anova.get_group('1990s')['words'],data_anova.get_group('2000s')['words'])\n",
    "anova_res_1, anova_res_2,anova_res_3"
   ]
  },
  {
   "cell_type": "code",
   "execution_count": 42,
   "metadata": {},
   "outputs": [
    {
     "data": {
      "text/plain": [
       "LeveneResult(statistic=0.16867706840554048, pvalue=0.68216893335208)"
      ]
     },
     "execution_count": 42,
     "metadata": {},
     "output_type": "execute_result"
    }
   ],
   "source": [
    "# need to check whether conditions meet for doing anova test\n",
    "# levene test checks for homogeneity of var between groups\n",
    "# since not stat sig (p-val greater that 0.05), can assume this condition\n",
    "# need to be more sure of this and check all conditions before doing anova tests\n",
    "stats.levene(data['words'][data['era'] == '1990s'],\n",
    "             data['words'][data['era'] == '2010s'])"
   ]
  },
  {
   "cell_type": "code",
   "execution_count": 17,
   "metadata": {},
   "outputs": [],
   "source": [
    "# this is just to know who the min max artists are \n",
    "max_idx = data[['era','words','rapper_clean']].groupby('era')['words'].idxmax()\n",
    "min_idx = data[['era','words','rapper_clean']].groupby('era')['words'].idxmin()\n",
    "max_words = data.loc[max_idx,][['era','words','rapper_clean']]\n",
    "min_words = data.loc[min_idx,][['era','words','rapper_clean']]"
   ]
  },
  {
   "cell_type": "code",
   "execution_count": 18,
   "metadata": {},
   "outputs": [
    {
     "data": {
      "text/html": [
       "<div>\n",
       "<style scoped>\n",
       "    .dataframe tbody tr th:only-of-type {\n",
       "        vertical-align: middle;\n",
       "    }\n",
       "\n",
       "    .dataframe tbody tr th {\n",
       "        vertical-align: top;\n",
       "    }\n",
       "\n",
       "    .dataframe thead th {\n",
       "        text-align: right;\n",
       "    }\n",
       "</style>\n",
       "<table border=\"1\" class=\"dataframe\">\n",
       "  <thead>\n",
       "    <tr style=\"text-align: right;\">\n",
       "      <th></th>\n",
       "      <th>era</th>\n",
       "      <th>words</th>\n",
       "      <th>rapper_clean</th>\n",
       "    </tr>\n",
       "  </thead>\n",
       "  <tbody>\n",
       "    <tr>\n",
       "      <th>11</th>\n",
       "      <td>1980s</td>\n",
       "      <td>4655.0</td>\n",
       "      <td>Big Daddy Kane</td>\n",
       "    </tr>\n",
       "    <tr>\n",
       "      <th>57</th>\n",
       "      <td>1990s</td>\n",
       "      <td>6390.0</td>\n",
       "      <td>GZA</td>\n",
       "    </tr>\n",
       "    <tr>\n",
       "      <th>6</th>\n",
       "      <td>2000s</td>\n",
       "      <td>7879.0</td>\n",
       "      <td>Aesop Rock</td>\n",
       "    </tr>\n",
       "    <tr>\n",
       "      <th>154</th>\n",
       "      <td>2010s</td>\n",
       "      <td>5413.0</td>\n",
       "      <td>Watsky</td>\n",
       "    </tr>\n",
       "  </tbody>\n",
       "</table>\n",
       "</div>"
      ],
      "text/plain": [
       "       era   words    rapper_clean\n",
       "11   1980s  4655.0  Big Daddy Kane\n",
       "57   1990s  6390.0             GZA\n",
       "6    2000s  7879.0      Aesop Rock\n",
       "154  2010s  5413.0          Watsky"
      ]
     },
     "execution_count": 18,
     "metadata": {},
     "output_type": "execute_result"
    }
   ],
   "source": [
    "max_words.head()"
   ]
  },
  {
   "cell_type": "code",
   "execution_count": 19,
   "metadata": {},
   "outputs": [
    {
     "data": {
      "text/html": [
       "<div>\n",
       "<style scoped>\n",
       "    .dataframe tbody tr th:only-of-type {\n",
       "        vertical-align: middle;\n",
       "    }\n",
       "\n",
       "    .dataframe tbody tr th {\n",
       "        vertical-align: top;\n",
       "    }\n",
       "\n",
       "    .dataframe thead th {\n",
       "        text-align: right;\n",
       "    }\n",
       "</style>\n",
       "<table border=\"1\" class=\"dataframe\">\n",
       "  <thead>\n",
       "    <tr style=\"text-align: right;\">\n",
       "      <th></th>\n",
       "      <th>era</th>\n",
       "      <th>words</th>\n",
       "      <th>rapper_clean</th>\n",
       "    </tr>\n",
       "  </thead>\n",
       "  <tbody>\n",
       "    <tr>\n",
       "      <th>143</th>\n",
       "      <td>1980s</td>\n",
       "      <td>2778.0</td>\n",
       "      <td>Too Short</td>\n",
       "    </tr>\n",
       "    <tr>\n",
       "      <th>41</th>\n",
       "      <td>1990s</td>\n",
       "      <td>2936.0</td>\n",
       "      <td>DMX</td>\n",
       "    </tr>\n",
       "    <tr>\n",
       "      <th>72</th>\n",
       "      <td>2000s</td>\n",
       "      <td>3275.0</td>\n",
       "      <td>Juicy J</td>\n",
       "    </tr>\n",
       "    <tr>\n",
       "      <th>114</th>\n",
       "      <td>2010s</td>\n",
       "      <td>2472.0</td>\n",
       "      <td>NF</td>\n",
       "    </tr>\n",
       "  </tbody>\n",
       "</table>\n",
       "</div>"
      ],
      "text/plain": [
       "       era   words rapper_clean\n",
       "143  1980s  2778.0    Too Short\n",
       "41   1990s  2936.0          DMX\n",
       "72   2000s  3275.0      Juicy J\n",
       "114  2010s  2472.0           NF"
      ]
     },
     "execution_count": 19,
     "metadata": {},
     "output_type": "execute_result"
    }
   ],
   "source": [
    "min_words.head()"
   ]
  }
 ],
 "metadata": {
  "kernelspec": {
   "display_name": "Python 3",
   "language": "python",
   "name": "python3"
  },
  "language_info": {
   "codemirror_mode": {
    "name": "ipython",
    "version": 3
   },
   "file_extension": ".py",
   "mimetype": "text/x-python",
   "name": "python",
   "nbconvert_exporter": "python",
   "pygments_lexer": "ipython3",
   "version": "3.7.3"
  }
 },
 "nbformat": 4,
 "nbformat_minor": 2
}
