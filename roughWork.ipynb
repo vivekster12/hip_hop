{
 "cells": [
  {
   "cell_type": "code",
   "execution_count": 5,
   "metadata": {},
   "outputs": [],
   "source": [
    "import pandas as pd\n",
    "import numpy as np\n",
    "import matplotlib.pyplot as plt\n",
    "from scipy import stats"
   ]
  },
  {
   "cell_type": "code",
   "execution_count": 6,
   "metadata": {},
   "outputs": [],
   "source": [
    "data = pd.read_csv(\"Hip_Hop _ Vocab_Chart-Full.csv\")"
   ]
  },
  {
   "cell_type": "code",
   "execution_count": 7,
   "metadata": {},
   "outputs": [],
   "source": [
    "data.rename(index=str, columns={\"rapper\": \"artist\"}, inplace=True)\n",
    "data.drop(columns=['rapper_clean', 'notes', 'color'], inplace=True)\n",
    "data.drop(columns=['words'], inplace=True)\n",
    "data.rename(index=str, columns={\"recalc\": \"words\"}, inplace=True)"
   ]
  },
  {
   "cell_type": "code",
   "execution_count": 8,
   "metadata": {},
   "outputs": [
    {
     "data": {
      "text/plain": [
       "F_onewayResult(statistic=12.72696641437611, pvalue=1.7637948016674944e-07)"
      ]
     },
     "execution_count": 8,
     "metadata": {},
     "output_type": "execute_result"
    }
   ],
   "source": [
    "# anova test to see atleast one mean is statistically different from the rest, given low p-val, yes.\n",
    "stats.f_oneway(data['words'][data['era'] == '1980s'],\n",
    "             data['words'][data['era'] == '1990s'],\n",
    "             data['words'][data['era'] == '2000s'],\n",
    "             data['words'][data['era'] == '2010s'])"
   ]
  },
  {
   "cell_type": "code",
   "execution_count": 9,
   "metadata": {},
   "outputs": [
    {
     "data": {
      "text/plain": [
       "(Ttest_indResult(statistic=-1.1542042683286322, pvalue=0.25390347566862714),\n",
       " Ttest_indResult(statistic=-1.115576134045436, pvalue=0.26936798984985877),\n",
       " Ttest_indResult(statistic=1.860506106507783, pvalue=0.06748256111528092),\n",
       " Ttest_indResult(statistic=-0.4620185970644447, pvalue=0.6451586998726611),\n",
       " Ttest_indResult(statistic=5.5800446340959935, pvalue=2.0987336234645824e-07),\n",
       " Ttest_indResult(statistic=5.358893197884523, pvalue=4.989772891200519e-07))"
      ]
     },
     "execution_count": 9,
     "metadata": {},
     "output_type": "execute_result"
    }
   ],
   "source": [
    "# fishers LSD to find out which means are stat. diff.\n",
    "# drop from 2000s to 2010s (and 1990s to 2010s) is stat. sig\n",
    "a = stats.ttest_ind(data['words'][data['era'] == '1980s'], data['words'][data['era'] == '1990s'])\n",
    "b = stats.ttest_ind(data['words'][data['era'] == '1980s'], data['words'][data['era'] == '2000s'])\n",
    "c = stats.ttest_ind(data['words'][data['era'] == '1980s'], data['words'][data['era'] == '2010s'])\n",
    "d = stats.ttest_ind(data['words'][data['era'] == '1990s'], data['words'][data['era'] == '2000s'])\n",
    "e = stats.ttest_ind(data['words'][data['era'] == '1990s'], data['words'][data['era'] == '2010s'])\n",
    "f = stats.ttest_ind(data['words'][data['era'] == '2000s'], data['words'][data['era'] == '2010s'])\n",
    "a,b,c,d,e,f"
   ]
  },
  {
   "cell_type": "code",
   "execution_count": 10,
   "metadata": {},
   "outputs": [
    {
     "data": {
      "text/plain": [
       "(F_onewayResult(statistic=28.71773630633302, pvalue=4.989772891200487e-07),\n",
       " F_onewayResult(statistic=1.3321874930280369, pvalue=0.25390347566862653),\n",
       " F_onewayResult(statistic=0.21346118403339606, pvalue=0.6451586998726657))"
      ]
     },
     "execution_count": 10,
     "metadata": {},
     "output_type": "execute_result"
    }
   ],
   "source": [
    "# alternatively can do one_way anova tests but doing them pairwise gives same res as doing t tests \n",
    "# (which are by def supposed to be done between 2 groups)\n",
    "data_anova = data[['era','words']].groupby(['era'])\n",
    "anova_res_1 = stats.f_oneway(data_anova.get_group('2000s')['words'],data_anova.get_group('2010s')['words'])\n",
    "anova_res_2 = stats.f_oneway(data_anova.get_group('1980s')['words'],data_anova.get_group('1990s')['words'])\n",
    "anova_res_3 = stats.f_oneway(data_anova.get_group('1990s')['words'],data_anova.get_group('2000s')['words'])\n",
    "anova_res_1, anova_res_2,anova_res_3"
   ]
  },
  {
   "cell_type": "code",
   "execution_count": 11,
   "metadata": {},
   "outputs": [
    {
     "data": {
      "text/plain": [
       "LeveneResult(statistic=0.3044665045638414, pvalue=0.5823391897091525)"
      ]
     },
     "execution_count": 11,
     "metadata": {},
     "output_type": "execute_result"
    }
   ],
   "source": [
    "# need to check whether conditions meet for doing anova test\n",
    "# levene test checks for homogeneity of var between groups\n",
    "# since not stat sig (p-val greater that 0.05), can assume this condition\n",
    "# need to be more sure of this and check all conditions before doing anova tests\n",
    "stats.levene(data['words'][data['era'] == '1990s'],\n",
    "             data['words'][data['era'] == '2010s'])"
   ]
  },
  {
   "cell_type": "code",
   "execution_count": 14,
   "metadata": {},
   "outputs": [],
   "source": [
    "# this is just to know who the min max artists are \n",
    "max_idx = data[['era','words','artist']].groupby('era')['words'].idxmax()\n",
    "min_idx = data[['era','words','artist']].groupby('era')['words'].idxmin()\n",
    "max_words = data.loc[max_idx,][['era','words','artist']]\n",
    "min_words = data.loc[min_idx,][['era','words','artist']]"
   ]
  }
 ],
 "metadata": {
  "kernelspec": {
   "display_name": "Python 3",
   "language": "python",
   "name": "python3"
  },
  "language_info": {
   "codemirror_mode": {
    "name": "ipython",
    "version": 3
   },
   "file_extension": ".py",
   "mimetype": "text/x-python",
   "name": "python",
   "nbconvert_exporter": "python",
   "pygments_lexer": "ipython3",
   "version": "3.7.3"
  }
 },
 "nbformat": 4,
 "nbformat_minor": 2
}
